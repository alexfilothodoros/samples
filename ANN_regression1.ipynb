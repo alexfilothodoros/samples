{
  "nbformat": 4,
  "nbformat_minor": 0,
  "metadata": {
    "colab": {
      "name": "ANN_regression1.ipynb",
      "provenance": [],
      "collapsed_sections": [],
      "authorship_tag": "ABX9TyN1Ypbh1LOgmZfbE8KbsLjy",
      "include_colab_link": true
    },
    "kernelspec": {
      "name": "python3",
      "display_name": "Python 3"
    },
    "language_info": {
      "name": "python"
    }
  },
  "cells": [
    {
      "cell_type": "markdown",
      "metadata": {
        "id": "view-in-github",
        "colab_type": "text"
      },
      "source": [
        "<a href=\"https://colab.research.google.com/github/alexfilothodoros/samples/blob/master/ANN_regression1.ipynb\" target=\"_parent\"><img src=\"https://colab.research.google.com/assets/colab-badge.svg\" alt=\"Open In Colab\"/></a>"
      ]
    },
    {
      "cell_type": "code",
      "metadata": {
        "id": "zoSkkqvluKzT"
      },
      "source": [
        "import numpy as np\n",
        "from keras.layers import Dense, Activation\n",
        "from keras.models import Sequential\n",
        "from sklearn.model_selection import train_test_split\n",
        "import matplotlib.pyplot as plt\n",
        "from google.colab import files\n",
        "import pandas as pd\n",
        "import io"
      ],
      "execution_count": 4,
      "outputs": []
    },
    {
      "cell_type": "markdown",
      "metadata": {
        "id": "h60s9RvV6W2M"
      },
      "source": [
        "The data are available here: https://archive.ics.uci.edu/ml/datasets/Yacht+Hydrodynamics "
      ]
    },
    {
      "cell_type": "code",
      "metadata": {
        "colab": {
          "resources": {
            "http://localhost:8080/nbextensions/google.colab/files.js": {
              "data": "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",
              "ok": true,
              "headers": [
                [
                  "content-type",
                  "application/javascript"
                ]
              ],
              "status": 200,
              "status_text": ""
            }
          },
          "base_uri": "https://localhost:8080/",
          "height": 73
        },
        "id": "rGOyFoPi36NK",
        "outputId": "5abc9425-4af6-4c9d-8b41-0abfe4904f07"
      },
      "source": [
        "uploaded = files.upload()"
      ],
      "execution_count": 3,
      "outputs": [
        {
          "output_type": "display_data",
          "data": {
            "text/html": [
              "\n",
              "     <input type=\"file\" id=\"files-4ecf601c-2dea-4a62-8630-4976efae9ff7\" name=\"files[]\" multiple disabled\n",
              "        style=\"border:none\" />\n",
              "     <output id=\"result-4ecf601c-2dea-4a62-8630-4976efae9ff7\">\n",
              "      Upload widget is only available when the cell has been executed in the\n",
              "      current browser session. Please rerun this cell to enable.\n",
              "      </output>\n",
              "      <script src=\"/nbextensions/google.colab/files.js\"></script> "
            ],
            "text/plain": [
              "<IPython.core.display.HTML object>"
            ]
          },
          "metadata": {
            "tags": []
          }
        },
        {
          "output_type": "stream",
          "text": [
            "Saving yacht_hydrodynamics.data to yacht_hydrodynamics.data\n"
          ],
          "name": "stdout"
        }
      ]
    },
    {
      "cell_type": "code",
      "metadata": {
        "id": "0906-A744PsQ"
      },
      "source": [
        "df = np.genfromtxt(io.StringIO(uploaded['yacht_hydrodynamics.data'].decode('utf-8')), delimiter='')"
      ],
      "execution_count": 18,
      "outputs": []
    },
    {
      "cell_type": "code",
      "metadata": {
        "id": "x-9eoEF742DO"
      },
      "source": [
        "X = df[:, :-1]\n",
        "y = df[:, -1]\n",
        "# Splitting the dataset into the Training set and Test set\n",
        "X_train, X_test, y_train, y_test = train_test_split(X, y, test_size = 0.08, random_state = 0)\n",
        "\n"
      ],
      "execution_count": 22,
      "outputs": []
    },
    {
      "cell_type": "code",
      "metadata": {
        "id": "W5rCdOeX44zj"
      },
      "source": [
        "# Initialising the ANN\n",
        "model = Sequential()\n",
        "\n",
        "# Adding the input layer and the first hidden layer\n",
        "model.add(Dense(32, activation = 'relu', input_dim = 6))\n",
        "\n",
        "# Adding the second hidden layer\n",
        "model.add(Dense(units = 32, activation = 'relu'))\n",
        "\n",
        "# Adding the third hidden layer\n",
        "model.add(Dense(units = 32, activation = 'relu'))\n",
        "\n",
        "# Adding the output layer\n",
        "\n",
        "model.add(Dense(units = 1))\n"
      ],
      "execution_count": 23,
      "outputs": []
    },
    {
      "cell_type": "code",
      "metadata": {
        "colab": {
          "base_uri": "https://localhost:8080/"
        },
        "id": "sCwcRXRQ5dt1",
        "outputId": "34561167-532b-4fec-c2aa-acbe91739b16"
      },
      "source": [
        "#model.add(Dense(1))\n",
        "# Compiling the ANN\n",
        "model.compile(optimizer = 'adam', loss = 'mean_squared_error')\n",
        "\n",
        "# Fitting the ANN to the Training set\n",
        "model.fit(X_train, y_train, batch_size = 10, epochs = 100)\n",
        "\n",
        "y_pred = model.predict(X_test)\n"
      ],
      "execution_count": 24,
      "outputs": [
        {
          "output_type": "stream",
          "text": [
            "Epoch 1/100\n",
            "29/29 [==============================] - 11s 2ms/step - loss: 440.7293\n",
            "Epoch 2/100\n",
            "29/29 [==============================] - 0s 2ms/step - loss: 248.9672\n",
            "Epoch 3/100\n",
            "29/29 [==============================] - 0s 1ms/step - loss: 216.7703\n",
            "Epoch 4/100\n",
            "29/29 [==============================] - 0s 1ms/step - loss: 238.9472\n",
            "Epoch 5/100\n",
            "29/29 [==============================] - 0s 2ms/step - loss: 215.1788\n",
            "Epoch 6/100\n",
            "29/29 [==============================] - 0s 3ms/step - loss: 248.5273\n",
            "Epoch 7/100\n",
            "29/29 [==============================] - 0s 2ms/step - loss: 235.6066\n",
            "Epoch 8/100\n",
            "29/29 [==============================] - 0s 2ms/step - loss: 250.2927\n",
            "Epoch 9/100\n",
            "29/29 [==============================] - 0s 2ms/step - loss: 207.7306\n",
            "Epoch 10/100\n",
            "29/29 [==============================] - 0s 2ms/step - loss: 243.1246\n",
            "Epoch 11/100\n",
            "29/29 [==============================] - 0s 2ms/step - loss: 178.3111\n",
            "Epoch 12/100\n",
            "29/29 [==============================] - 0s 2ms/step - loss: 203.3420\n",
            "Epoch 13/100\n",
            "29/29 [==============================] - 0s 2ms/step - loss: 214.8462\n",
            "Epoch 14/100\n",
            "29/29 [==============================] - 0s 2ms/step - loss: 247.8685\n",
            "Epoch 15/100\n",
            "29/29 [==============================] - 0s 2ms/step - loss: 243.1924\n",
            "Epoch 16/100\n",
            "29/29 [==============================] - 0s 2ms/step - loss: 243.7289\n",
            "Epoch 17/100\n",
            "29/29 [==============================] - 0s 2ms/step - loss: 225.9859\n",
            "Epoch 18/100\n",
            "29/29 [==============================] - 0s 2ms/step - loss: 249.1814\n",
            "Epoch 19/100\n",
            "29/29 [==============================] - 0s 1ms/step - loss: 226.4055\n",
            "Epoch 20/100\n",
            "29/29 [==============================] - 0s 1ms/step - loss: 208.1834\n",
            "Epoch 21/100\n",
            "29/29 [==============================] - 0s 2ms/step - loss: 194.7465\n",
            "Epoch 22/100\n",
            "29/29 [==============================] - 0s 2ms/step - loss: 191.1684\n",
            "Epoch 23/100\n",
            "29/29 [==============================] - 0s 2ms/step - loss: 219.5791\n",
            "Epoch 24/100\n",
            "29/29 [==============================] - 0s 3ms/step - loss: 228.3206\n",
            "Epoch 25/100\n",
            "29/29 [==============================] - 0s 2ms/step - loss: 230.9138\n",
            "Epoch 26/100\n",
            "29/29 [==============================] - 0s 2ms/step - loss: 248.4239\n",
            "Epoch 27/100\n",
            "29/29 [==============================] - 0s 1ms/step - loss: 210.7242\n",
            "Epoch 28/100\n",
            "29/29 [==============================] - 0s 2ms/step - loss: 266.7585\n",
            "Epoch 29/100\n",
            "29/29 [==============================] - 0s 2ms/step - loss: 207.9018\n",
            "Epoch 30/100\n",
            "29/29 [==============================] - 0s 2ms/step - loss: 251.8585\n",
            "Epoch 31/100\n",
            "29/29 [==============================] - 0s 2ms/step - loss: 213.9678\n",
            "Epoch 32/100\n",
            "29/29 [==============================] - 0s 2ms/step - loss: 186.5283\n",
            "Epoch 33/100\n",
            "29/29 [==============================] - 0s 2ms/step - loss: 221.3895\n",
            "Epoch 34/100\n",
            "29/29 [==============================] - 0s 2ms/step - loss: 184.3869\n",
            "Epoch 35/100\n",
            "29/29 [==============================] - 0s 1ms/step - loss: 211.4324\n",
            "Epoch 36/100\n",
            "29/29 [==============================] - 0s 1ms/step - loss: 175.0954\n",
            "Epoch 37/100\n",
            "29/29 [==============================] - 0s 2ms/step - loss: 196.7760\n",
            "Epoch 38/100\n",
            "29/29 [==============================] - 0s 2ms/step - loss: 164.2109\n",
            "Epoch 39/100\n",
            "29/29 [==============================] - 0s 2ms/step - loss: 144.8657\n",
            "Epoch 40/100\n",
            "29/29 [==============================] - 0s 2ms/step - loss: 137.0917\n",
            "Epoch 41/100\n",
            "29/29 [==============================] - 0s 2ms/step - loss: 139.0172\n",
            "Epoch 42/100\n",
            "29/29 [==============================] - 0s 2ms/step - loss: 116.8446\n",
            "Epoch 43/100\n",
            "29/29 [==============================] - 0s 2ms/step - loss: 90.2734\n",
            "Epoch 44/100\n",
            "29/29 [==============================] - 0s 2ms/step - loss: 94.4019\n",
            "Epoch 45/100\n",
            "29/29 [==============================] - 0s 2ms/step - loss: 76.9793\n",
            "Epoch 46/100\n",
            "29/29 [==============================] - 0s 2ms/step - loss: 76.3235\n",
            "Epoch 47/100\n",
            "29/29 [==============================] - 0s 2ms/step - loss: 91.0410\n",
            "Epoch 48/100\n",
            "29/29 [==============================] - 0s 2ms/step - loss: 74.5097\n",
            "Epoch 49/100\n",
            "29/29 [==============================] - 0s 2ms/step - loss: 67.4773\n",
            "Epoch 50/100\n",
            "29/29 [==============================] - 0s 2ms/step - loss: 46.5837\n",
            "Epoch 51/100\n",
            "29/29 [==============================] - 0s 2ms/step - loss: 62.1233\n",
            "Epoch 52/100\n",
            "29/29 [==============================] - 0s 2ms/step - loss: 60.3771\n",
            "Epoch 53/100\n",
            "29/29 [==============================] - 0s 2ms/step - loss: 40.0171\n",
            "Epoch 54/100\n",
            "29/29 [==============================] - 0s 2ms/step - loss: 51.6540\n",
            "Epoch 55/100\n",
            "29/29 [==============================] - 0s 1ms/step - loss: 49.1783\n",
            "Epoch 56/100\n",
            "29/29 [==============================] - 0s 2ms/step - loss: 49.9069\n",
            "Epoch 57/100\n",
            "29/29 [==============================] - 0s 2ms/step - loss: 39.2468\n",
            "Epoch 58/100\n",
            "29/29 [==============================] - 0s 2ms/step - loss: 33.4376\n",
            "Epoch 59/100\n",
            "29/29 [==============================] - 0s 2ms/step - loss: 39.0593\n",
            "Epoch 60/100\n",
            "29/29 [==============================] - 0s 2ms/step - loss: 39.7883\n",
            "Epoch 61/100\n",
            "29/29 [==============================] - 0s 2ms/step - loss: 25.8598\n",
            "Epoch 62/100\n",
            "29/29 [==============================] - 0s 2ms/step - loss: 44.4971\n",
            "Epoch 63/100\n",
            "29/29 [==============================] - 0s 2ms/step - loss: 33.4274\n",
            "Epoch 64/100\n",
            "29/29 [==============================] - 0s 2ms/step - loss: 25.4685\n",
            "Epoch 65/100\n",
            "29/29 [==============================] - 0s 1ms/step - loss: 28.2097\n",
            "Epoch 66/100\n",
            "29/29 [==============================] - 0s 2ms/step - loss: 34.9560\n",
            "Epoch 67/100\n",
            "29/29 [==============================] - 0s 2ms/step - loss: 26.8470\n",
            "Epoch 68/100\n",
            "29/29 [==============================] - 0s 2ms/step - loss: 32.1452\n",
            "Epoch 69/100\n",
            "29/29 [==============================] - 0s 2ms/step - loss: 26.4106\n",
            "Epoch 70/100\n",
            "29/29 [==============================] - 0s 2ms/step - loss: 20.1863\n",
            "Epoch 71/100\n",
            "29/29 [==============================] - 0s 2ms/step - loss: 21.1383\n",
            "Epoch 72/100\n",
            "29/29 [==============================] - 0s 2ms/step - loss: 28.1465\n",
            "Epoch 73/100\n",
            "29/29 [==============================] - 0s 2ms/step - loss: 20.0186\n",
            "Epoch 74/100\n",
            "29/29 [==============================] - 0s 2ms/step - loss: 37.6562\n",
            "Epoch 75/100\n",
            "29/29 [==============================] - 0s 2ms/step - loss: 19.8157\n",
            "Epoch 76/100\n",
            "29/29 [==============================] - 0s 2ms/step - loss: 19.8494\n",
            "Epoch 77/100\n",
            "29/29 [==============================] - 0s 2ms/step - loss: 24.9083\n",
            "Epoch 78/100\n",
            "29/29 [==============================] - 0s 2ms/step - loss: 26.0608\n",
            "Epoch 79/100\n",
            "29/29 [==============================] - 0s 2ms/step - loss: 15.6330\n",
            "Epoch 80/100\n",
            "29/29 [==============================] - 0s 2ms/step - loss: 18.9456\n",
            "Epoch 81/100\n",
            "29/29 [==============================] - 0s 2ms/step - loss: 19.9061\n",
            "Epoch 82/100\n",
            "29/29 [==============================] - 0s 2ms/step - loss: 15.4375\n",
            "Epoch 83/100\n",
            "29/29 [==============================] - 0s 2ms/step - loss: 13.9833\n",
            "Epoch 84/100\n",
            "29/29 [==============================] - 0s 2ms/step - loss: 16.4297\n",
            "Epoch 85/100\n",
            "29/29 [==============================] - 0s 2ms/step - loss: 15.9390\n",
            "Epoch 86/100\n",
            "29/29 [==============================] - 0s 2ms/step - loss: 20.0245\n",
            "Epoch 87/100\n",
            "29/29 [==============================] - 0s 2ms/step - loss: 16.3396\n",
            "Epoch 88/100\n",
            "29/29 [==============================] - 0s 2ms/step - loss: 14.5627\n",
            "Epoch 89/100\n",
            "29/29 [==============================] - 0s 2ms/step - loss: 15.8101\n",
            "Epoch 90/100\n",
            "29/29 [==============================] - 0s 1ms/step - loss: 20.8264\n",
            "Epoch 91/100\n",
            "29/29 [==============================] - 0s 2ms/step - loss: 8.7212\n",
            "Epoch 92/100\n",
            "29/29 [==============================] - 0s 2ms/step - loss: 16.0584\n",
            "Epoch 93/100\n",
            "29/29 [==============================] - 0s 2ms/step - loss: 16.0018\n",
            "Epoch 94/100\n",
            "29/29 [==============================] - 0s 1ms/step - loss: 14.3853\n",
            "Epoch 95/100\n",
            "29/29 [==============================] - 0s 1ms/step - loss: 18.0230\n",
            "Epoch 96/100\n",
            "29/29 [==============================] - 0s 2ms/step - loss: 12.8636\n",
            "Epoch 97/100\n",
            "29/29 [==============================] - 0s 2ms/step - loss: 16.7083\n",
            "Epoch 98/100\n",
            "29/29 [==============================] - 0s 2ms/step - loss: 13.4683\n",
            "Epoch 99/100\n",
            "29/29 [==============================] - 0s 2ms/step - loss: 13.9608\n",
            "Epoch 100/100\n",
            "29/29 [==============================] - 0s 3ms/step - loss: 17.6111\n"
          ],
          "name": "stdout"
        }
      ]
    },
    {
      "cell_type": "code",
      "metadata": {
        "colab": {
          "base_uri": "https://localhost:8080/",
          "height": 281
        },
        "id": "15_B7vX15f9n",
        "outputId": "e90b72fa-5b5b-4fcb-9268-30e3affde6c9"
      },
      "source": [
        "plt.plot(y_test, color = 'red', label = 'Real data')\n",
        "plt.plot(y_pred, color = 'blue', label = 'Predicted data')\n",
        "plt.title('Prediction')\n",
        "plt.legend()\n",
        "plt.show()"
      ],
      "execution_count": 25,
      "outputs": [
        {
          "output_type": "display_data",
          "data": {
            "image/png": "[encoded data removed]",
            "text/plain": [
              "<Figure size 432x288 with 1 Axes>"
            ]
          },
          "metadata": {
            "tags": [],
            "needs_background": "light"
          }
        }
      ]
    },
    {
      "cell_type": "code",
      "metadata": {
        "id": "bzCYUJTj6N-N"
      },
      "source": [
        ""
      ],
      "execution_count": null,
      "outputs": []
    }
  ]
}